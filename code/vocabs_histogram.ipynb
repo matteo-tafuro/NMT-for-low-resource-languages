{
 "cells": [
  {
   "cell_type": "code",
   "execution_count": 1,
   "id": "fa00a7b1",
   "metadata": {},
   "outputs": [],
   "source": [
    "import transformers \n",
    "import numpy as np\n",
    "#from transformers import M2M100Tokenizer, M2M100Model\n",
    "from datasets import load_dataset, load_metric\n",
    "from transformers import AutoTokenizer, AutoModelForSeq2SeqLM, DataCollatorForSeq2Seq, Seq2SeqTrainingArguments, Seq2SeqTrainer\n",
    "import wandb\n",
    "\n",
    "from torch.utils.checkpoint import checkpoint\n"
   ]
  },
  {
   "cell_type": "markdown",
   "id": "64b8e7d5",
   "metadata": {},
   "source": [
    "# Experiment 1: vocabulary overlap\n",
    "### AZ TO EN"
   ]
  },
  {
   "cell_type": "code",
   "execution_count": 2,
   "id": "82d09d91",
   "metadata": {},
   "outputs": [
    {
     "name": "stderr",
     "output_type": "stream",
     "text": [
      "/home/lcur0594/.conda/envs/M2M/lib/python3.9/site-packages/huggingface_hub/utils/_deprecation.py:97: FutureWarning: Deprecated argument(s) used in 'dataset_info': token. Will not be supported from version '0.12'.\n",
      "  warnings.warn(message, FutureWarning)\n",
      "Found cached dataset ted_hrlr (/home/lcur0594/.cache/huggingface/datasets/ted_hrlr/az_to_en/1.0.0/8714af315cdaad0e48eeea8715047e3571227c959b97b8d5a953fd024cc89509)\n"
     ]
    },
    {
     "data": {
      "application/json": {
       "ascii": false,
       "bar_format": null,
       "colour": null,
       "elapsed": 0.02057480812072754,
       "initial": 0,
       "n": 0,
       "ncols": null,
       "nrows": 24,
       "postfix": null,
       "prefix": "",
       "rate": null,
       "total": 3,
       "unit": "it",
       "unit_divisor": 1000,
       "unit_scale": false
      },
      "application/vnd.jupyter.widget-view+json": {
       "model_id": "ecf743d5c4324979bf03562d38dbac10",
       "version_major": 2,
       "version_minor": 0
      },
      "text/plain": [
       "  0%|          | 0/3 [00:00<?, ?it/s]"
      ]
     },
     "metadata": {},
     "output_type": "display_data"
    },
    {
     "name": "stderr",
     "output_type": "stream",
     "text": [
      "/scratch/ipykernel_32027/428218854.py:2: FutureWarning: load_metric is deprecated and will be removed in the next major version of datasets. Use 'evaluate.load' instead, from the new library 🤗 Evaluate: https://huggingface.co/docs/evaluate\n",
      "  metric = load_metric(\"sacrebleu\")\n",
      "Loading cached processed dataset at /home/lcur0594/.cache/huggingface/datasets/ted_hrlr/az_to_en/1.0.0/8714af315cdaad0e48eeea8715047e3571227c959b97b8d5a953fd024cc89509/cache-c5072d224ac57bf8.arrow\n",
      "Loading cached processed dataset at /home/lcur0594/.cache/huggingface/datasets/ted_hrlr/az_to_en/1.0.0/8714af315cdaad0e48eeea8715047e3571227c959b97b8d5a953fd024cc89509/cache-e951ee841c1d8f35.arrow\n",
      "Loading cached processed dataset at /home/lcur0594/.cache/huggingface/datasets/ted_hrlr/az_to_en/1.0.0/8714af315cdaad0e48eeea8715047e3571227c959b97b8d5a953fd024cc89509/cache-228559abe7e3d710.arrow\n"
     ]
    }
   ],
   "source": [
    "raw_datasets = load_dataset(\"ted_hrlr\", \"az_to_en\")\n",
    "metric = load_metric(\"sacrebleu\")\n",
    "\n",
    "model_checkpoint = \"facebook/m2m100_418M\"\n",
    "\n",
    "tokenizer = AutoTokenizer.from_pretrained(model_checkpoint, src_lang=\"az\", tgt_lang=\"en\")\n",
    "model = AutoModelForSeq2SeqLM.from_pretrained(model_checkpoint)\n",
    "\n",
    "# We have to set the model decoding to force the target language as the bos token. \n",
    "model.config.forced_bos_token_id = tokenizer.get_lang_id(\"en\")\n",
    "\n",
    "if model_checkpoint in [\"t5-small\", \"t5-base\", \"t5-larg\", \"t5-3b\", \"t5-11b\"]:\n",
    "    prefix = \"translate English to Romanian: \"\n",
    "else:\n",
    "    prefix = \"\"\n",
    "\n",
    "max_input_length = 128\n",
    "max_target_length = 128\n",
    "source_lang = \"az\"\n",
    "target_lang = \"en\"\n",
    "\n",
    "def preprocess_function(examples):\n",
    "    inputs = [prefix + ex[source_lang] for ex in examples[\"translation\"]]\n",
    "    targets = [ex[target_lang] for ex in examples[\"translation\"]]\n",
    "    model_inputs = tokenizer(inputs, max_length=max_input_length, truncation=True)\n",
    "\n",
    "    # Setup the tokenizer for targets\n",
    "    with tokenizer.as_target_tokenizer():\n",
    "        labels = tokenizer(targets, max_length=max_target_length, truncation=True)\n",
    "\n",
    "    model_inputs[\"labels\"] = labels[\"input_ids\"]\n",
    "    return model_inputs\n",
    "\n",
    "tokenized_datasets = raw_datasets.map(preprocess_function, batched=True)\n"
   ]
  },
  {
   "cell_type": "code",
   "execution_count": 3,
   "id": "3d1daa06",
   "metadata": {
    "scrolled": true
   },
   "outputs": [
    {
     "name": "stdout",
     "output_type": "stream",
     "text": [
      "Vocab size:  128112\n",
      "{'az': 'etdiklərindən zövq alırdılar . bütün vaxtı qumun içində idilər .', 'en': 'they have fun in the moment and they keep playing in the sand .'}\n",
      "['__az__', '▁etdik', 'lərindən', '▁z', 'öv', 'q', '▁al', 'ırdı', 'lar', '▁.', '▁bütün', '▁vaxt', 'ı', '▁q', 'umun', '▁iç', 'ində', '▁id', 'ilər', '▁.', '</s>']\n"
     ]
    }
   ],
   "source": [
    "print(\"Vocab size: \", tokenizer.vocab_size)\n",
    "train_az = tokenized_datasets['train']\n",
    "\n",
    "num = 150\n",
    "ids_az = train_az['input_ids'][num]\n",
    "print(train_az['translation'][num])\n",
    "print(tokenizer.convert_ids_to_tokens(ids_az))"
   ]
  },
  {
   "cell_type": "markdown",
   "id": "8b063521",
   "metadata": {},
   "source": [
    "The first and last entries are special tokens. (Why do we have multiple UNKs?)"
   ]
  },
  {
   "cell_type": "code",
   "execution_count": 4,
   "id": "d7764a1d",
   "metadata": {
    "scrolled": true
   },
   "outputs": [
    {
     "name": "stdout",
     "output_type": "stream",
     "text": [
      "First 30 tokens: ['<s>', '<pad>', '</s>', '<unk>', ',', '.', '▁de', '-', '▁a', ':', '▁...', '▁(', \"'\", '▁i', '▁la', '▁-', '▁e', ')', '▁na', '’', '▁en', '▁sa', '▁', '▁на', '?', '▁o', '...', '▁que', '▁in', '▁и']\n",
      "\n",
      "Last 30 tokens: ['__so__', '__sq__', '__sr__', '__ss__', '__su__', '__sv__', '__sw__', '__ta__', '__th__', '__tl__', '__tn__', '__tr__', '__uk__', '__ur__', '__uz__', '__vi__', '__wo__', '__xh__', '__yi__', '__yo__', '__zh__', '__zu__', '<unk>', '<unk>', '<unk>', '<unk>', '<unk>', '<unk>', '<unk>', '<unk>']\n",
      "\n",
      "\n"
     ]
    }
   ],
   "source": [
    "n = 30\n",
    "print(f\"First {n} tokens: {tokenizer.convert_ids_to_tokens(np.arange(n))}\\n\")\n",
    "\n",
    "print(f\"Last {n} tokens: {tokenizer.convert_ids_to_tokens(np.arange(tokenizer.vocab_size-n, tokenizer.vocab_size))}\\n\")\n",
    "\n",
    "print()"
   ]
  },
  {
   "cell_type": "markdown",
   "id": "ada67777",
   "metadata": {},
   "source": [
    "\\[Training Set\\] Entries of the vocabulary as IDs:"
   ]
  },
  {
   "cell_type": "code",
   "execution_count": 5,
   "id": "00e63951",
   "metadata": {},
   "outputs": [],
   "source": [
    "train_az = tokenized_datasets['train']\n",
    "test_az = tokenized_datasets['test']\n",
    "train_ids_az = np.concatenate(train_az['input_ids']).ravel()\n",
    "test_ids_az = np.concatenate(test_az['input_ids']).ravel()\n",
    "\n",
    "# Count frequency of each unique ID\n",
    "# ----- TRAIN -----\n",
    "unique_az_train, frequency_az_train = np.unique(train_ids_az, return_counts = True)\n",
    "vocab_freq_az_train = np.zeros(tokenizer.vocab_size, dtype=np.int32)\n",
    "vocab_freq_az_train[unique_az_train] = frequency_az_train\n",
    "# ----- TEST -----\n",
    "unique_az_test, frequency_az_test = np.unique(test_ids_az, return_counts = True)\n",
    "vocab_freq_az_test = np.zeros(tokenizer.vocab_size, dtype=np.int32)\n",
    "vocab_freq_az_test[unique_az_test] = frequency_az_test"
   ]
  },
  {
   "cell_type": "markdown",
   "id": "6d187684",
   "metadata": {},
   "source": [
    "### TR TO EN"
   ]
  },
  {
   "cell_type": "code",
   "execution_count": 6,
   "id": "c6ddf98f",
   "metadata": {},
   "outputs": [
    {
     "name": "stderr",
     "output_type": "stream",
     "text": [
      "/home/lcur0594/.conda/envs/M2M/lib/python3.9/site-packages/huggingface_hub/utils/_deprecation.py:97: FutureWarning: Deprecated argument(s) used in 'dataset_info': token. Will not be supported from version '0.12'.\n",
      "  warnings.warn(message, FutureWarning)\n",
      "Found cached dataset ted_hrlr (/home/lcur0594/.cache/huggingface/datasets/ted_hrlr/tr_to_en/1.0.0/8714af315cdaad0e48eeea8715047e3571227c959b97b8d5a953fd024cc89509)\n"
     ]
    },
    {
     "data": {
      "application/json": {
       "ascii": false,
       "bar_format": null,
       "colour": null,
       "elapsed": 0.025478124618530273,
       "initial": 0,
       "n": 0,
       "ncols": null,
       "nrows": 24,
       "postfix": null,
       "prefix": "",
       "rate": null,
       "total": 3,
       "unit": "it",
       "unit_divisor": 1000,
       "unit_scale": false
      },
      "application/vnd.jupyter.widget-view+json": {
       "model_id": "8bce6b2c4f554138b778f30edf80fd46",
       "version_major": 2,
       "version_minor": 0
      },
      "text/plain": [
       "  0%|          | 0/3 [00:00<?, ?it/s]"
      ]
     },
     "metadata": {},
     "output_type": "display_data"
    },
    {
     "name": "stderr",
     "output_type": "stream",
     "text": [
      "Loading cached processed dataset at /home/lcur0594/.cache/huggingface/datasets/ted_hrlr/tr_to_en/1.0.0/8714af315cdaad0e48eeea8715047e3571227c959b97b8d5a953fd024cc89509/cache-fee50520c3ff8ee0.arrow\n",
      "Loading cached processed dataset at /home/lcur0594/.cache/huggingface/datasets/ted_hrlr/tr_to_en/1.0.0/8714af315cdaad0e48eeea8715047e3571227c959b97b8d5a953fd024cc89509/cache-f921ca43bad5259e.arrow\n",
      "Loading cached processed dataset at /home/lcur0594/.cache/huggingface/datasets/ted_hrlr/tr_to_en/1.0.0/8714af315cdaad0e48eeea8715047e3571227c959b97b8d5a953fd024cc89509/cache-e9406205a0daa611.arrow\n"
     ]
    }
   ],
   "source": [
    "raw_datasets = load_dataset(\"ted_hrlr\", \"tr_to_en\")\n",
    "metric = load_metric(\"sacrebleu\")\n",
    "\n",
    "model_checkpoint = \"facebook/m2m100_418M\"\n",
    "\n",
    "tokenizer = AutoTokenizer.from_pretrained(model_checkpoint, src_lang=\"tr\", tgt_lang=\"en\")\n",
    "model = AutoModelForSeq2SeqLM.from_pretrained(model_checkpoint)\n",
    "\n",
    "# We have to set the model decoding to force the target language as the bos token. \n",
    "model.config.forced_bos_token_id = tokenizer.get_lang_id(\"en\")\n",
    "\n",
    "if model_checkpoint in [\"t5-small\", \"t5-base\", \"t5-larg\", \"t5-3b\", \"t5-11b\"]:\n",
    "    prefix = \"translate English to Romanian: \"\n",
    "else:\n",
    "    prefix = \"\"\n",
    "\n",
    "max_input_length = 128\n",
    "max_target_length = 128\n",
    "source_lang = \"tr\"\n",
    "target_lang = \"en\"\n",
    "\n",
    "def preprocess_function(examples):\n",
    "    inputs = [prefix + ex[source_lang] for ex in examples[\"translation\"]]\n",
    "    targets = [ex[target_lang] for ex in examples[\"translation\"]]\n",
    "    model_inputs = tokenizer(inputs, max_length=max_input_length, truncation=True)\n",
    "\n",
    "    # Setup the tokenizer for targets\n",
    "    with tokenizer.as_target_tokenizer():\n",
    "        labels = tokenizer(targets, max_length=max_target_length, truncation=True)\n",
    "\n",
    "    model_inputs[\"labels\"] = labels[\"input_ids\"]\n",
    "    return model_inputs\n",
    "\n",
    "tokenized_datasets = raw_datasets.map(preprocess_function, batched=True)\n"
   ]
  },
  {
   "cell_type": "code",
   "execution_count": 7,
   "id": "19bf9a6a",
   "metadata": {},
   "outputs": [],
   "source": [
    "train_tr = tokenized_datasets['train']\n",
    "ids_tr = np.concatenate(train_tr['input_ids']).ravel()\n",
    "# Count frequency of each unique ID\n",
    "unique_tr, frequency_tr = np.unique(ids_tr, return_counts = True)\n",
    "vocab_freq_tr = np.zeros(tokenizer.vocab_size, dtype=np.int32)\n",
    "vocab_freq_tr[unique_tr] = frequency_tr"
   ]
  },
  {
   "cell_type": "markdown",
   "id": "7d0a39ef",
   "metadata": {},
   "source": [
    "### PT to EN"
   ]
  },
  {
   "cell_type": "code",
   "execution_count": 8,
   "id": "b221d123",
   "metadata": {},
   "outputs": [
    {
     "name": "stderr",
     "output_type": "stream",
     "text": [
      "/home/lcur0594/.conda/envs/M2M/lib/python3.9/site-packages/huggingface_hub/utils/_deprecation.py:97: FutureWarning: Deprecated argument(s) used in 'dataset_info': token. Will not be supported from version '0.12'.\n",
      "  warnings.warn(message, FutureWarning)\n",
      "Found cached dataset ted_hrlr (/home/lcur0594/.cache/huggingface/datasets/ted_hrlr/pt_to_en/1.0.0/8714af315cdaad0e48eeea8715047e3571227c959b97b8d5a953fd024cc89509)\n"
     ]
    },
    {
     "data": {
      "application/json": {
       "ascii": false,
       "bar_format": null,
       "colour": null,
       "elapsed": 0.018682003021240234,
       "initial": 0,
       "n": 0,
       "ncols": null,
       "nrows": 24,
       "postfix": null,
       "prefix": "",
       "rate": null,
       "total": 3,
       "unit": "it",
       "unit_divisor": 1000,
       "unit_scale": false
      },
      "application/vnd.jupyter.widget-view+json": {
       "model_id": "0b31fcdc04b34a2993d0a0ac6e869472",
       "version_major": 2,
       "version_minor": 0
      },
      "text/plain": [
       "  0%|          | 0/3 [00:00<?, ?it/s]"
      ]
     },
     "metadata": {},
     "output_type": "display_data"
    },
    {
     "name": "stderr",
     "output_type": "stream",
     "text": [
      "Loading cached processed dataset at /home/lcur0594/.cache/huggingface/datasets/ted_hrlr/pt_to_en/1.0.0/8714af315cdaad0e48eeea8715047e3571227c959b97b8d5a953fd024cc89509/cache-d157401d9d5262ec.arrow\n",
      "Loading cached processed dataset at /home/lcur0594/.cache/huggingface/datasets/ted_hrlr/pt_to_en/1.0.0/8714af315cdaad0e48eeea8715047e3571227c959b97b8d5a953fd024cc89509/cache-641f7eacde196c5f.arrow\n",
      "Loading cached processed dataset at /home/lcur0594/.cache/huggingface/datasets/ted_hrlr/pt_to_en/1.0.0/8714af315cdaad0e48eeea8715047e3571227c959b97b8d5a953fd024cc89509/cache-18f460c7ad7c138f.arrow\n"
     ]
    }
   ],
   "source": [
    "raw_datasets = load_dataset(\"ted_hrlr\", \"pt_to_en\")\n",
    "metric = load_metric(\"sacrebleu\")\n",
    "\n",
    "model_checkpoint = \"facebook/m2m100_418M\"\n",
    "\n",
    "tokenizer = AutoTokenizer.from_pretrained(model_checkpoint, src_lang=\"pt\", tgt_lang=\"en\")\n",
    "model = AutoModelForSeq2SeqLM.from_pretrained(model_checkpoint)\n",
    "\n",
    "# We have to set the model decoding to force the target language as the bos token. \n",
    "model.config.forced_bos_token_id = tokenizer.get_lang_id(\"en\")\n",
    "\n",
    "if model_checkpoint in [\"t5-small\", \"t5-base\", \"t5-larg\", \"t5-3b\", \"t5-11b\"]:\n",
    "    prefix = \"translate English to Romanian: \"\n",
    "else:\n",
    "    prefix = \"\"\n",
    "\n",
    "max_input_length = 128\n",
    "max_target_length = 128\n",
    "source_lang = \"pt\"\n",
    "target_lang = \"en\"\n",
    "\n",
    "def preprocess_function(examples):\n",
    "    inputs = [prefix + ex[source_lang] for ex in examples[\"translation\"]]\n",
    "    targets = [ex[target_lang] for ex in examples[\"translation\"]]\n",
    "    model_inputs = tokenizer(inputs, max_length=max_input_length, truncation=True)\n",
    "\n",
    "    # Setup the tokenizer for targets\n",
    "    with tokenizer.as_target_tokenizer():\n",
    "        labels = tokenizer(targets, max_length=max_target_length, truncation=True)\n",
    "\n",
    "    model_inputs[\"labels\"] = labels[\"input_ids\"]\n",
    "    return model_inputs\n",
    "\n",
    "tokenized_datasets = raw_datasets.map(preprocess_function, batched=True)\n"
   ]
  },
  {
   "cell_type": "code",
   "execution_count": 9,
   "id": "01731490",
   "metadata": {},
   "outputs": [],
   "source": [
    "train_pt = tokenized_datasets['train']\n",
    "ids_pt = np.concatenate(train_pt['input_ids']).ravel()\n",
    "# Count frequency of each unique ID\n",
    "unique_pt, frequency_pt = np.unique(ids_pt, return_counts = True)\n",
    "vocab_freq_pt = np.zeros(tokenizer.vocab_size, dtype=np.int32)\n",
    "vocab_freq_pt[unique_pt] = frequency_pt"
   ]
  },
  {
   "cell_type": "markdown",
   "id": "2d3dcd79",
   "metadata": {},
   "source": [
    "## Comparison"
   ]
  },
  {
   "cell_type": "code",
   "execution_count": 18,
   "id": "0f9e3dc6",
   "metadata": {
    "scrolled": false
   },
   "outputs": [
    {
     "data": {
      "image/png": "[encoded data removed]",
      "text/plain": [
       "<Figure size 640x480 with 1 Axes>"
      ]
     },
     "metadata": {},
     "output_type": "display_data"
    }
   ],
   "source": [
    "import matplotlib.pyplot as plt\n",
    "\n",
    "# normalize for comparison\n",
    "plt.plot(np.arange(tokenizer.vocab_size), np.cumsum(vocab_freq_tr/np.sum(vocab_freq_tr)), label = 'TR')\n",
    "plt.plot(np.arange(tokenizer.vocab_size), np.cumsum(vocab_freq_az_train/np.sum(vocab_freq_az_train)), label = 'AZ')\n",
    "plt.plot(np.arange(tokenizer.vocab_size), np.cumsum(vocab_freq_pt/np.sum(vocab_freq_pt)), label = 'PT')\n",
    "plt.legend(loc='lower right')\n",
    "plt.xlabel('Vocabulary entries')\n",
    "plt.ylabel('Cumulative normalized frequency')\n",
    "plt.grid(alpha=0.25)\n",
    "plt.savefig('vocab_overlap.pdf')\n",
    "plt.show()"
   ]
  },
  {
   "cell_type": "markdown",
   "id": "4001ee6e",
   "metadata": {},
   "source": [
    "Plotting but removing entries of the vocab that occur too frequently"
   ]
  },
  {
   "cell_type": "code",
   "execution_count": 11,
   "id": "7093eca1",
   "metadata": {
    "scrolled": true
   },
   "outputs": [
    {
     "name": "stdout",
     "output_type": "stream",
     "text": [
      "The histogram intersection values are:\n",
      "• AZ-TR: 0.486\n",
      "• AZ-PT: 0.218\n",
      "• TR-PT: 0.235\n"
     ]
    }
   ],
   "source": [
    "az2tr = np.sum(np.minimum(\n",
    "    vocab_freq_az_train/np.sum(vocab_freq_az_train),\n",
    "    vocab_freq_tr/np.sum(vocab_freq_tr)))\n",
    "\n",
    "az2pt = np.sum(np.minimum(\n",
    "    vocab_freq_az_train/np.sum(vocab_freq_az_train),\n",
    "    vocab_freq_pt/np.sum(vocab_freq_pt)))\n",
    "\n",
    "tr2pt = np.sum(np.minimum(\n",
    "    vocab_freq_tr/np.sum(vocab_freq_tr),\n",
    "    vocab_freq_pt/np.sum(vocab_freq_pt)))\n",
    "\n",
    "print(f\"The histogram intersection values are:\\n• AZ-TR: {az2tr:.3f}\\n• AZ-PT: {az2pt:.3f}\\n• TR-PT: {tr2pt:.3f}\")"
   ]
  },
  {
   "cell_type": "markdown",
   "id": "7a8d5c44",
   "metadata": {},
   "source": [
    "# Experiment 2: Train-test overlap"
   ]
  },
  {
   "cell_type": "code",
   "execution_count": 12,
   "id": "3da7ecc7",
   "metadata": {},
   "outputs": [
    {
     "data": {
      "image/png": "[encoded data removed]",
      "text/plain": [
       "<Figure size 640x480 with 1 Axes>"
      ]
     },
     "metadata": {},
     "output_type": "display_data"
    }
   ],
   "source": [
    "combined_train = vocab_freq_az_train + vocab_freq_tr\n",
    "\n",
    "plt.plot(np.arange(tokenizer.vocab_size), np.cumsum(vocab_freq_az_train/np.sum(vocab_freq_az_train)), label = 'AZ train set')\n",
    "plt.plot(np.arange(tokenizer.vocab_size), np.cumsum(vocab_freq_az_test/np.sum(vocab_freq_az_test)), label = 'AZ test set')\n",
    "plt.plot(np.arange(tokenizer.vocab_size), np.cumsum(combined_train/np.sum(combined_train)), label = 'AZ+TR train sets')\n",
    "plt.legend(loc='lower right')\n",
    "plt.show()"
   ]
  },
  {
   "cell_type": "code",
   "execution_count": 13,
   "id": "97419dd5",
   "metadata": {},
   "outputs": [
    {
     "name": "stdout",
     "output_type": "stream",
     "text": [
      "The histogram intersection values are:\n",
      "• AZ test - AZ train   : 0.811\n",
      "• AZ test - AZ+TR train: 0.447\n"
     ]
    }
   ],
   "source": [
    "test2az_train = np.sum(np.minimum(\n",
    "    vocab_freq_az_test/np.sum(vocab_freq_az_test),\n",
    "    vocab_freq_az_train/np.sum(vocab_freq_az_train)))\n",
    "\n",
    "test2az_tr_train = np.sum(np.minimum(\n",
    "    vocab_freq_az_test/np.sum(vocab_freq_az_test),\n",
    "    combined_train/np.sum(combined_train)))\n",
    "\n",
    "\n",
    "print(f\"The histogram intersection values are:\\n• AZ test - AZ train   : {test2az_train:.3f}\\n• AZ test - AZ+TR train: {test2az_tr_train:.3f}\")"
   ]
  },
  {
   "cell_type": "code",
   "execution_count": 14,
   "id": "2eaa102a",
   "metadata": {},
   "outputs": [
    {
     "ename": "SyntaxError",
     "evalue": "invalid character '§' (U+00A7) (1036121371.py, line 1)",
     "output_type": "error",
     "traceback": [
      "\u001b[0;36m  Cell \u001b[0;32mIn [14], line 1\u001b[0;36m\u001b[0m\n\u001b[0;31m    §\u001b[0m\n\u001b[0m    ^\u001b[0m\n\u001b[0;31mSyntaxError\u001b[0m\u001b[0;31m:\u001b[0m invalid character '§' (U+00A7)\n"
     ]
    }
   ],
   "source": [
    "§"
   ]
  }
 ],
 "metadata": {
  "kernelspec": {
   "display_name": "Python 3 (ipykernel)",
   "language": "python",
   "name": "python3"
  },
  "language_info": {
   "codemirror_mode": {
    "name": "ipython",
    "version": 3
   },
   "file_extension": ".py",
   "mimetype": "text/x-python",
   "name": "python",
   "nbconvert_exporter": "python",
   "pygments_lexer": "ipython3",
   "version": "3.9.7"
  }
 },
 "nbformat": 4,
 "nbformat_minor": 5
}
